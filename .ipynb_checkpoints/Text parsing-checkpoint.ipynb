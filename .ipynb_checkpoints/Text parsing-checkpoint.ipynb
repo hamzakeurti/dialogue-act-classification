{
 "cells": [
  {
   "cell_type": "code",
   "execution_count": 3,
   "metadata": {},
   "outputs": [],
   "source": [
    "import librosa.core\n",
    "\n",
    "def parse_dadb(filename):\n",
    "    data = []\n",
    "    labels = []\n",
    "    frames = []\n",
    "    \n",
    "    with open(filename,'r') as file:\n",
    "        line = file.readline()\n",
    "        k=0\n",
    "        while line:\n",
    "            line_split = line.split(',')\n",
    "            begin_time,end_time = float(line_split[0]),float(line_split[1])\n",
    "            label = line_split[-9]\n",
    "            words = [x.split('+')[-1] for x in line_split[4].split('|')]\n",
    "\n",
    "\n",
    "            data.append(words)\n",
    "            labels.append(label)\n",
    "            frames.append(librosa.core.time_to_frames((begin_time,end_time)))\n",
    "\n",
    "            line = file.readline()\n",
    "    return data,labels,frames"
   ]
  },
  {
   "cell_type": "code",
   "execution_count": 4,
   "metadata": {},
   "outputs": [],
   "source": [
    "data,labels,frames = parse_dadb('data\\\\dadb\\\\Bdb001.dadb')"
   ]
  },
  {
   "cell_type": "code",
   "execution_count": 7,
   "metadata": {},
   "outputs": [
    {
     "data": {
      "text/plain": [
       "{'%', 'b', 'f', 'q', 's', 'z'}"
      ]
     },
     "execution_count": 7,
     "metadata": {},
     "output_type": "execute_result"
    }
   ],
   "source": [
    "def mapping_labels(label):\n",
    "    if '|' in label:\n",
    "        for i in range(len(label)):\n",
    "            if label[i]=='|':\n",
    "                return label[i+1]\n",
    "    if label=='' or label[0].isdigit():\n",
    "        return 'z'\n",
    "    if label[0] in ['s','q','b','%','f']:\n",
    "        return label[0]\n",
    "    if label[0] == 'h':\n",
    "        return 'f'\n",
    "    if label[0] == 'x':\n",
    "        return '%'\n",
    "    return label\n",
    "set([mapping_labels(label) for label in labels])"
   ]
  },
  {
   "cell_type": "code",
   "execution_count": 8,
   "metadata": {},
   "outputs": [],
   "source": [
    "mapped = [mapping_labels(label) for label in labels]"
   ]
  },
  {
   "cell_type": "code",
   "execution_count": 7,
   "metadata": {},
   "outputs": [],
   "source": [
    "vocabulary = {}"
   ]
  },
  {
   "cell_type": "code",
   "execution_count": 9,
   "metadata": {},
   "outputs": [
    {
     "ename": "TypeError",
     "evalue": "Argument 'string' has incorrect type (expected str, got list)",
     "output_type": "error",
     "traceback": [
      "\u001b[1;31m---------------------------------------------------------------------------\u001b[0m",
      "\u001b[1;31mTypeError\u001b[0m                                 Traceback (most recent call last)",
      "\u001b[1;32m<ipython-input-9-67a0d124c713>\u001b[0m in \u001b[0;36m<module>\u001b[1;34m\u001b[0m\n\u001b[1;32m----> 1\u001b[1;33m \u001b[0mNLP\u001b[0m\u001b[1;33m.\u001b[0m\u001b[0mtokenizer\u001b[0m\u001b[1;33m(\u001b[0m\u001b[0mdata\u001b[0m\u001b[1;33m[\u001b[0m\u001b[1;36m0\u001b[0m\u001b[1;33m]\u001b[0m\u001b[1;33m)\u001b[0m\u001b[1;33m\u001b[0m\u001b[1;33m\u001b[0m\u001b[0m\n\u001b[0m",
      "\u001b[1;31mTypeError\u001b[0m: Argument 'string' has incorrect type (expected str, got list)"
     ]
    }
   ],
   "source": [
    "i = 0\n",
    "for sentence in data:\n",
    "    for word in sentence:\n",
    "        try:\n",
    "            vocabulary[word]\n",
    "        except:\n",
    "            vocabulary[word] = i\n",
    "            i+=1"
   ]
  },
  {
   "cell_type": "code",
   "execution_count": null,
   "metadata": {},
   "outputs": [],
   "source": []
  }
 ],
 "metadata": {
  "kernelspec": {
   "display_name": "Python 3",
   "language": "python",
   "name": "python3"
  },
  "language_info": {
   "codemirror_mode": {
    "name": "ipython",
    "version": 3
   },
   "file_extension": ".py",
   "mimetype": "text/x-python",
   "name": "python",
   "nbconvert_exporter": "python",
   "pygments_lexer": "ipython3",
   "version": "3.6.8"
  }
 },
 "nbformat": 4,
 "nbformat_minor": 2
}
