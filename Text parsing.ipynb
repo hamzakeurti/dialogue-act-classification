{
 "cells": [
  {
   "cell_type": "code",
   "execution_count": 85,
   "metadata": {},
   "outputs": [],
   "source": [
    "data = []\n",
    "labels = []\n",
    "frames =[]\n",
    "def parse_dadb(filename):\n",
    "    with open(filename,'r') as file:\n",
    "        line = file.readline()\n",
    "        k=0\n",
    "        while line:\n",
    "            line_split = line.split(',')\n",
    "            begin_time,end_time = float(line_split[0]),float(line_split[1])\n",
    "            label = line_split[-9]\n",
    "            words = [x.split('+')[-1] for x in line_split[4].split('|')]\n",
    "\n",
    "\n",
    "            data.append(words)\n",
    "            labels.append(label)\n",
    "            frames.append(librosa.core.time_to_frames((begin_time,end_time)))\n",
    "\n",
    "            line = file.readline()\n",
    "    return data,labels,frames\n",
    "parse_dadb()"
   ]
  },
  {
   "cell_type": "code",
   "execution_count": 86,
   "metadata": {},
   "outputs": [
    {
     "data": {
      "text/plain": [
       "{'%', 'b', 'f', 'q', 's', 'z'}"
      ]
     },
     "execution_count": 86,
     "metadata": {},
     "output_type": "execute_result"
    }
   ],
   "source": [
    "def mapping_labels(label):\n",
    "    if '|' in label:\n",
    "        for i in range(len(label)):\n",
    "            if label[i]=='|':\n",
    "                return label[i+1]\n",
    "    if label=='' or label[0].isdigit():\n",
    "        return 'z'\n",
    "    if label[0] in ['s','q','b','%','f']:\n",
    "        return label[0]\n",
    "    if label[0] == 'h':\n",
    "        return 'f'\n",
    "    if label[0] == 'x':\n",
    "        return '%'\n",
    "    return label\n",
    "set([mapping_labels(label) for label in labels])"
   ]
  },
  {
   "cell_type": "code",
   "execution_count": 87,
   "metadata": {},
   "outputs": [],
   "source": [
    "mapped = [mapping_labels(label) for label in labels]"
   ]
  }
 ],
 "metadata": {
  "kernelspec": {
   "display_name": "Python 3",
   "language": "python",
   "name": "python3"
  },
  "language_info": {
   "codemirror_mode": {
    "name": "ipython",
    "version": 3
   },
   "file_extension": ".py",
   "mimetype": "text/x-python",
   "name": "python",
   "nbconvert_exporter": "python",
   "pygments_lexer": "ipython3",
   "version": "3.6.8"
  }
 },
 "nbformat": 4,
 "nbformat_minor": 2
}
