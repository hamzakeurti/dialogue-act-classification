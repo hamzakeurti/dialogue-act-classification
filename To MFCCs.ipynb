{
 "cells": [
  {
   "cell_type": "code",
   "execution_count": 1,
   "metadata": {},
   "outputs": [],
   "source": [
    "import librosa\n",
    "from librosa import display\n",
    "from matplotlib import pyplot as plt\n",
    "from matplotlib import cm\n",
    "import sklearn\n",
    "import torch\n",
    "n_mfcc = 13"
   ]
  },
  {
   "cell_type": "code",
   "execution_count": 2,
   "metadata": {},
   "outputs": [],
   "source": [
    "training_set = []\n",
    "dev_set = []\n",
    "test_set = []\n",
    "with open('train_test_split.txt','r') as file:\n",
    "    line = file.readline()\n",
    "    train = True\n",
    "    line = file.readline()\n",
    "    while line[:3]!='Dev':\n",
    "        if len(line)>1:\n",
    "            training_set.append(line[:-1])\n",
    "        line = file.readline()\n",
    "    line = file.readline()\n",
    "    while line[:3]!='Tes':\n",
    "        if len(line)>1:\n",
    "            dev_set.append(line[:-1])\n",
    "        line = file.readline()\n",
    "    line = file.readline()\n",
    "    while line[:3]!='Not':\n",
    "        if len(line)>1:\n",
    "            test_set.append(line[:-1])\n",
    "        line = file.readline()"
   ]
  },
  {
   "cell_type": "code",
   "execution_count": 3,
   "metadata": {},
   "outputs": [],
   "source": [
    "s = {'train':training_set,'dev':dev_set,'test':test_set}\n",
    "folders = ['train','dev','test']"
   ]
  },
  {
   "cell_type": "code",
   "execution_count": 26,
   "metadata": {},
   "outputs": [
    {
     "name": "stdout",
     "output_type": "stream",
     "text": [
      "Done Bed017\n",
      "Done Bmr002\n",
      "Done Bmr003\n",
      "Done Bmr006\n",
      "Done Bmr007\n",
      "Done Bmr008\n",
      "Done Bmr009\n",
      "Done Bmr011\n",
      "Done Bmr012\n",
      "Done Bmr005\n",
      "Done Bmr014\n",
      "Done Bmr001\n",
      "Done Bmr010\n"
     ]
    }
   ],
   "source": [
    "failed = []\n",
    "for name in folders:\n",
    "    for x in s[name]:\n",
    "        try:\n",
    "            open(name + \"\\\\\" + x + '.pt')\n",
    "        except:\n",
    "            try:\n",
    "                y, sr = librosa.load('Signals/' + x + '.interaction.wav')\n",
    "                MFCC = librosa.feature.mfcc(y,sr,n_mfcc=n_mfcc,norm = 'ortho')\n",
    "                normalized_MFCC = sklearn.preprocessing.scale(MFCC, axis=1)\n",
    "                t = torch.tensor(normalized_MFCC)\n",
    "                torch.save(t, name + \"\\\\\" + x + '.pt')\n",
    "                print('Done ' + x)\n",
    "            except:\n",
    "                failed.append(x)"
   ]
  },
  {
   "cell_type": "code",
   "execution_count": 29,
   "metadata": {},
   "outputs": [
    {
     "data": {
      "text/plain": [
       "['Bmr015',\n",
       " 'Bmr016',\n",
       " 'Bmr020',\n",
       " 'Bmr021',\n",
       " 'Bmr023',\n",
       " 'Bmr025',\n",
       " 'Bmr026',\n",
       " 'Bmr027',\n",
       " 'Bmr029',\n",
       " 'Bmr031',\n",
       " 'Bns001',\n",
       " 'Bns002',\n",
       " 'Bns003',\n",
       " 'Bro003',\n",
       " 'Bro005',\n",
       " 'Bro007',\n",
       " 'Bro010',\n",
       " 'Bro012',\n",
       " 'Bro013',\n",
       " 'Bro015',\n",
       " 'Bro016',\n",
       " 'Bro017',\n",
       " 'Bro019',\n",
       " 'Bro022',\n",
       " 'Bro023',\n",
       " 'Bro025',\n",
       " 'Bro026',\n",
       " 'Bro028',\n",
       " 'Bsr001',\n",
       " 'Btr001',\n",
       " 'Btr002',\n",
       " 'Buw001',\n",
       " 'Bmr019',\n",
       " 'Bmr024',\n",
       " 'Bmr030',\n",
       " 'Bro004',\n",
       " 'Bro011',\n",
       " 'Bro018',\n",
       " 'Bro024',\n",
       " 'Bmr022',\n",
       " 'Bmr028',\n",
       " 'Bro008',\n",
       " 'Bro014',\n",
       " 'Bro021',\n",
       " 'Bro027']"
      ]
     },
     "execution_count": 29,
     "metadata": {},
     "output_type": "execute_result"
    }
   ],
   "source": [
    "failed"
   ]
  },
  {
   "cell_type": "code",
   "execution_count": 18,
   "metadata": {},
   "outputs": [],
   "source": [
    "x = torch.load('train\\\\Bdb001.pt')"
   ]
  },
  {
   "cell_type": "code",
   "execution_count": 19,
   "metadata": {},
   "outputs": [
    {
     "data": {
      "text/plain": [
       "tensor([[-1.0214, -1.0482, -0.9562,  ..., -0.6561, -1.0143, -1.2920],\n",
       "        [-1.4338, -1.4808, -1.2063,  ..., -0.6500, -0.9233, -1.2978],\n",
       "        [-0.0127, -0.0234,  0.1851,  ..., -0.3862,  0.2005,  0.3512],\n",
       "        ...,\n",
       "        [-0.3888,  0.0022,  0.3564,  ..., -0.3387, -0.2932, -0.2408],\n",
       "        [ 0.1238,  0.3317,  0.8544,  ..., -1.0893, -0.2758, -0.2523],\n",
       "        [-0.0810,  0.0826,  0.3500,  ..., -0.6153, -0.1007, -0.3536]],\n",
       "       dtype=torch.float64)"
      ]
     },
     "execution_count": 19,
     "metadata": {},
     "output_type": "execute_result"
    }
   ],
   "source": [
    "x"
   ]
  },
  {
   "cell_type": "code",
   "execution_count": 20,
   "metadata": {},
   "outputs": [
    {
     "data": {
      "text/plain": [
       "torch.Size([13, 130144])"
      ]
     },
     "execution_count": 20,
     "metadata": {},
     "output_type": "execute_result"
    }
   ],
   "source": [
    "x.shape"
   ]
  },
  {
   "cell_type": "code",
   "execution_count": 33,
   "metadata": {},
   "outputs": [],
   "source": [
    "import librosa.core"
   ]
  },
  {
   "cell_type": "code",
   "execution_count": 39,
   "metadata": {},
   "outputs": [
    {
     "data": {
      "text/plain": [
       "0.0"
      ]
     },
     "execution_count": 39,
     "metadata": {},
     "output_type": "execute_result"
    }
   ],
   "source": [
    "librosa.core.frames_to_time(0,sr)"
   ]
  },
  {
   "cell_type": "code",
   "execution_count": null,
   "metadata": {},
   "outputs": [],
   "source": []
  }
 ],
 "metadata": {
  "kernelspec": {
   "display_name": "Python 3",
   "language": "python",
   "name": "python3"
  },
  "language_info": {
   "codemirror_mode": {
    "name": "ipython",
    "version": 3
   },
   "file_extension": ".py",
   "mimetype": "text/x-python",
   "name": "python",
   "nbconvert_exporter": "python",
   "pygments_lexer": "ipython3",
   "version": "3.6.8"
  }
 },
 "nbformat": 4,
 "nbformat_minor": 2
}
