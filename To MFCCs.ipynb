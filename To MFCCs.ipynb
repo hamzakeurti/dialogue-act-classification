{
 "cells": [
  {
   "cell_type": "code",
   "execution_count": 4,
   "metadata": {},
   "outputs": [],
   "source": [
    "import librosa\n",
    "from librosa import display\n",
    "from matplotlib import pyplot as plt\n",
    "from matplotlib import cm\n",
    "import sklearn\n",
    "import torch\n",
    "n_mfcc = 13"
   ]
  },
  {
   "cell_type": "code",
   "execution_count": 5,
   "metadata": {},
   "outputs": [],
   "source": [
    "training_set = []\n",
    "dev_set = []\n",
    "test_set = []\n",
    "with open('train_test_split.txt','r') as file:\n",
    "    line = file.readline()\n",
    "    train = True\n",
    "    line = file.readline()\n",
    "    while line[:3]!='Dev':\n",
    "        if len(line)>1:\n",
    "            training_set.append(line[:-1])\n",
    "        line = file.readline()\n",
    "    line = file.readline()\n",
    "    while line[:3]!='Tes':\n",
    "        if len(line)>1:\n",
    "            dev_set.append(line[:-1])\n",
    "        line = file.readline()\n",
    "    line = file.readline()\n",
    "    while line[:3]!='Not':\n",
    "        if len(line)>1:\n",
    "            test_set.append(line[:-1])\n",
    "        line = file.readline()"
   ]
  },
  {
   "cell_type": "code",
   "execution_count": 6,
   "metadata": {},
   "outputs": [],
   "source": [
    "s = {'train':training_set,'dev':dev_set,'test':test_set}\n",
    "folders = ['train','dev','test']"
   ]
  },
  {
   "cell_type": "code",
   "execution_count": 17,
   "metadata": {},
   "outputs": [],
   "source": [
    "failed = []\n",
    "for name in folders:\n",
    "    for x in s[name]:\n",
    "        try:\n",
    "            open(name + \"\\\\\" + x + '.pt')\n",
    "        except:\n",
    "            try:\n",
    "                y, sr = librosa.load('Signals/' + x + '.interaction.wav')\n",
    "                MFCC = librosa.feature.mfcc(y,sr,n_mfcc=n_mfcc,norm = 'ortho')\n",
    "                normalized_MFCC = sklearn.preprocessing.scale(MFCC, axis=1)\n",
    "                t = torch.tensor(normalized_MFCC)\n",
    "                torch.save(t, name + \"\\\\\" + x + '.pt')\n",
    "                print('Done ' + x)\n",
    "            except:\n",
    "                failed.append(x)"
   ]
  },
  {
   "cell_type": "code",
   "execution_count": 8,
   "metadata": {},
   "outputs": [
    {
     "data": {
      "text/plain": [
       "[]"
      ]
     },
     "execution_count": 8,
     "metadata": {},
     "output_type": "execute_result"
    }
   ],
   "source": [
    "failed"
   ]
  },
  {
   "cell_type": "code",
   "execution_count": 18,
   "metadata": {},
   "outputs": [],
   "source": [
    "x = torch.load('train\\\\Bdb001.pt')"
   ]
  },
  {
   "cell_type": "code",
   "execution_count": 11,
   "metadata": {},
   "outputs": [],
   "source": [
    "obj = []\n",
    "for name in folders:\n",
    "    for x in s[name]:\n",
    "        obj.append(torch.load(name+'\\\\' + x + '.pt'))"
   ]
  },
  {
   "cell_type": "code",
   "execution_count": 16,
   "metadata": {},
   "outputs": [
    {
     "data": {
      "text/plain": [
       "torch.Size([13, 168645])"
      ]
     },
     "execution_count": 16,
     "metadata": {},
     "output_type": "execute_result"
    }
   ],
   "source": [
    "obj[1].shape"
   ]
  },
  {
   "cell_type": "code",
   "execution_count": 33,
   "metadata": {},
   "outputs": [],
   "source": [
    "import librosa.core"
   ]
  },
  {
   "cell_type": "code",
   "execution_count": 39,
   "metadata": {},
   "outputs": [
    {
     "data": {
      "text/plain": [
       "0.0"
      ]
     },
     "execution_count": 39,
     "metadata": {},
     "output_type": "execute_result"
    }
   ],
   "source": [
    "librosa.core.frames_to_time(0,sr)"
   ]
  },
  {
   "cell_type": "code",
   "execution_count": null,
   "metadata": {},
   "outputs": [],
   "source": []
  }
 ],
 "metadata": {
  "kernelspec": {
   "display_name": "Python 3",
   "language": "python",
   "name": "python3"
  },
  "language_info": {
   "codemirror_mode": {
    "name": "ipython",
    "version": 3
   },
   "file_extension": ".py",
   "mimetype": "text/x-python",
   "name": "python",
   "nbconvert_exporter": "python",
   "pygments_lexer": "ipython3",
   "version": "3.6.8"
  }
 },
 "nbformat": 4,
 "nbformat_minor": 2
}
