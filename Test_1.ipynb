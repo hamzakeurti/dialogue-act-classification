{
 "cells": [
  {
   "cell_type": "code",
   "execution_count": 23,
   "metadata": {},
   "outputs": [],
   "source": [
    "import torch.nn as nn\n",
    "import torch"
   ]
  },
  {
   "cell_type": "code",
   "execution_count": 24,
   "metadata": {},
   "outputs": [],
   "source": [
    "A = torch.tensor([1,2,3])"
   ]
  },
  {
   "cell_type": "code",
   "execution_count": 25,
   "metadata": {},
   "outputs": [],
   "source": [
    "embedding = nn.Embedding(10, 3)"
   ]
  },
  {
   "cell_type": "code",
   "execution_count": 26,
   "metadata": {},
   "outputs": [
    {
     "data": {
      "text/plain": [
       "tensor([[-0.1441, -2.6497, -0.0610],\n",
       "        [ 1.4158, -1.1405, -0.8985],\n",
       "        [-0.5867, -0.5864, -0.7786]], grad_fn=<EmbeddingBackward>)"
      ]
     },
     "execution_count": 26,
     "metadata": {},
     "output_type": "execute_result"
    }
   ],
   "source": [
    "embedding(A)"
   ]
  },
  {
   "cell_type": "code",
   "execution_count": 35,
   "metadata": {},
   "outputs": [],
   "source": [
    "pretrained_embeddings = torch.tensor([[0.1*i for k in range(3)] for i in range(10)])"
   ]
  },
  {
   "cell_type": "code",
   "execution_count": 36,
   "metadata": {},
   "outputs": [
    {
     "data": {
      "text/plain": [
       "tensor([[0.0000, 0.0000, 0.0000],\n",
       "        [0.1000, 0.1000, 0.1000],\n",
       "        [0.2000, 0.2000, 0.2000],\n",
       "        [0.3000, 0.3000, 0.3000],\n",
       "        [0.4000, 0.4000, 0.4000],\n",
       "        [0.5000, 0.5000, 0.5000],\n",
       "        [0.6000, 0.6000, 0.6000],\n",
       "        [0.7000, 0.7000, 0.7000],\n",
       "        [0.8000, 0.8000, 0.8000],\n",
       "        [0.9000, 0.9000, 0.9000]])"
      ]
     },
     "execution_count": 36,
     "metadata": {},
     "output_type": "execute_result"
    }
   ],
   "source": [
    "pretrained_embeddings"
   ]
  },
  {
   "cell_type": "code",
   "execution_count": 34,
   "metadata": {},
   "outputs": [
    {
     "ename": "RuntimeError",
     "evalue": "The expanded size of the tensor (10) must match the existing size (20) at non-singleton dimension 0.  Target sizes: [10, 3].  Tensor sizes: [20, 3]",
     "output_type": "error",
     "traceback": [
      "\u001b[1;31m---------------------------------------------------------------------------\u001b[0m",
      "\u001b[1;31mRuntimeError\u001b[0m                              Traceback (most recent call last)",
      "\u001b[1;32m<ipython-input-34-3d22103e2088>\u001b[0m in \u001b[0;36m<module>\u001b[1;34m\u001b[0m\n\u001b[1;32m----> 1\u001b[1;33m \u001b[0m_\u001b[0m \u001b[1;33m=\u001b[0m \u001b[0membedding\u001b[0m\u001b[1;33m.\u001b[0m\u001b[0mweight\u001b[0m\u001b[1;33m.\u001b[0m\u001b[0mdata\u001b[0m\u001b[1;33m.\u001b[0m\u001b[0mcopy_\u001b[0m\u001b[1;33m(\u001b[0m\u001b[0mpretrained_embeddings\u001b[0m\u001b[1;33m)\u001b[0m\u001b[1;33m\u001b[0m\u001b[1;33m\u001b[0m\u001b[0m\n\u001b[0m",
      "\u001b[1;31mRuntimeError\u001b[0m: The expanded size of the tensor (10) must match the existing size (20) at non-singleton dimension 0.  Target sizes: [10, 3].  Tensor sizes: [20, 3]"
     ]
    }
   ],
   "source": [
    "_ = embedding.weight.data.copy_(pretrained_embeddings)"
   ]
  },
  {
   "cell_type": "code",
   "execution_count": 30,
   "metadata": {},
   "outputs": [
    {
     "data": {
      "text/plain": [
       "tensor([[0.1000, 0.1000, 0.1000],\n",
       "        [0.2000, 0.2000, 0.2000],\n",
       "        [0.3000, 0.3000, 0.3000]], grad_fn=<EmbeddingBackward>)"
      ]
     },
     "execution_count": 30,
     "metadata": {},
     "output_type": "execute_result"
    }
   ],
   "source": [
    "embedding(A)"
   ]
  },
  {
   "cell_type": "code",
   "execution_count": 38,
   "metadata": {},
   "outputs": [],
   "source": [
    "class Model(nn.Module):\n",
    "    def __init__(self, vocabulary_size,input_dim_audio, embedding_dim, output_dim):\n",
    "        super(Model, self).__init__()\n",
    "        self.vocabulary_size = vocabulary_size\n",
    "        self.input_dim_audio = input_dim_audio\n",
    "        self.embedding_dim = embedding_dim\n",
    "        self.output_dim = output_dim\n",
    "\n",
    "        self.embedding = nn.Embedding(vocabulary_size, embedding_dim)\n",
    "\n",
    "\n",
    "    def forward(self, data):\n",
    "        text = data[0]\n",
    "        audio = data[1]\n",
    "\n",
    "        embedded = self.embedding(text)\n",
    "        return embedded"
   ]
  },
  {
   "cell_type": "code",
   "execution_count": 39,
   "metadata": {},
   "outputs": [],
   "source": [
    "mod = Model(100,20,300,10)"
   ]
  },
  {
   "cell_type": "code",
   "execution_count": 40,
   "metadata": {},
   "outputs": [],
   "source": [
    "input = torch.randn(20, 16, 50)"
   ]
  },
  {
   "cell_type": "code",
   "execution_count": 41,
   "metadata": {},
   "outputs": [
    {
     "data": {
      "text/plain": [
       "tensor([[[ 1.6243e+00,  4.7961e-02,  5.2408e-01,  ..., -1.3543e+00,\n",
       "           1.1764e+00, -1.8711e+00],\n",
       "         [-8.1210e-01, -8.0798e-01, -4.3334e-01,  ..., -1.5408e-01,\n",
       "          -2.0409e+00,  1.0447e+00],\n",
       "         [-5.6067e-01, -1.7007e+00, -7.2215e-01,  ..., -9.6397e-01,\n",
       "           2.1561e-02,  7.1909e-01],\n",
       "         ...,\n",
       "         [-3.5136e-01, -1.2038e+00, -2.8032e+00,  ..., -1.6382e+00,\n",
       "           5.3726e-01, -7.6472e-01],\n",
       "         [-3.8739e-01,  3.4711e-01, -2.7452e-01,  ..., -1.1566e+00,\n",
       "          -3.4068e-01, -1.5947e+00],\n",
       "         [ 1.3566e+00,  8.6383e-02,  9.6290e-01,  ...,  1.0812e+00,\n",
       "          -1.3943e+00,  4.7307e-02]],\n",
       "\n",
       "        [[-1.1724e-01,  1.2570e+00, -9.8797e-01,  ...,  1.4980e+00,\n",
       "          -1.3136e+00, -2.6921e-01],\n",
       "         [-8.7407e-02, -8.0296e-01, -1.8132e+00,  ...,  7.5152e-01,\n",
       "          -5.7830e-01, -7.6128e-01],\n",
       "         [ 1.6377e-01, -5.7366e-01,  4.1530e-01,  ...,  1.6107e-01,\n",
       "           1.2040e+00, -4.7993e-01],\n",
       "         ...,\n",
       "         [ 7.2963e-01, -1.0987e-01,  1.3873e-02,  ...,  4.4364e-01,\n",
       "          -1.5514e+00, -1.0983e+00],\n",
       "         [ 7.1065e-01, -2.1489e-01, -1.3728e-01,  ...,  5.4575e-01,\n",
       "          -2.2672e+00,  1.6193e+00],\n",
       "         [ 2.4161e+00, -5.2412e-01, -2.2703e+00,  ..., -3.2546e+00,\n",
       "          -5.6215e-01, -1.3614e+00]],\n",
       "\n",
       "        [[ 1.1098e+00,  2.8156e-01, -1.8447e+00,  ...,  6.1106e-01,\n",
       "           9.2380e-01, -1.0208e+00],\n",
       "         [-4.3643e-01, -3.1719e-01,  5.7601e-01,  ..., -9.3281e-01,\n",
       "           1.5450e+00,  8.8108e-01],\n",
       "         [ 1.7272e+00, -1.6399e+00, -8.3040e-01,  ..., -8.3702e-01,\n",
       "          -3.3632e-01, -9.7662e-02],\n",
       "         ...,\n",
       "         [ 2.6834e-01, -7.2146e-02,  6.0738e-01,  ...,  1.7513e-01,\n",
       "           7.1856e-01, -9.0735e-01],\n",
       "         [-3.2317e-01, -7.8689e-01, -1.0924e-02,  ..., -3.6375e-01,\n",
       "          -6.5624e-03,  5.1856e-01],\n",
       "         [-1.3414e-01, -1.6118e-01, -6.1468e-01,  ..., -6.8301e-02,\n",
       "          -1.0451e+00,  1.6324e-01]],\n",
       "\n",
       "        ...,\n",
       "\n",
       "        [[-2.1550e+00,  6.3614e-02, -7.4125e-01,  ...,  1.0227e+00,\n",
       "           2.5702e+00,  5.8080e-01],\n",
       "         [-8.4937e-01, -6.0515e-01,  3.8142e-01,  ...,  9.9290e-02,\n",
       "          -1.0238e+00,  6.0701e-01],\n",
       "         [ 2.1529e+00, -1.7277e-02, -1.3289e+00,  ..., -4.1944e-02,\n",
       "          -6.8080e-01, -2.0613e-03],\n",
       "         ...,\n",
       "         [-3.2292e-01,  1.5080e+00,  5.3563e-01,  ..., -2.6542e-01,\n",
       "          -1.0174e+00,  1.0141e+00],\n",
       "         [ 1.0792e+00, -1.7619e+00,  3.1802e-01,  ...,  5.4731e-01,\n",
       "          -9.2625e-01, -1.0586e-01],\n",
       "         [-1.9420e-02,  1.0707e+00, -6.5871e-02,  ..., -1.3437e+00,\n",
       "           2.1919e-01,  9.6372e-01]],\n",
       "\n",
       "        [[ 8.7541e-01,  1.1938e-02,  2.7604e-01,  ...,  7.7719e-01,\n",
       "           1.2163e+00, -2.8344e-01],\n",
       "         [ 5.3924e-02,  5.3601e-01, -9.7817e-01,  ..., -8.4174e-01,\n",
       "          -2.5683e-01,  2.1651e-01],\n",
       "         [ 1.0522e-01, -7.2417e-02,  9.7851e-01,  ..., -1.5041e-02,\n",
       "           2.4111e-01, -1.1733e-01],\n",
       "         ...,\n",
       "         [-9.3859e-01,  7.0782e-01, -1.3174e+00,  ..., -5.7320e-02,\n",
       "           3.0513e-01, -2.8592e-01],\n",
       "         [ 8.1137e-01,  1.0491e-01,  8.5415e-01,  ..., -5.3433e-01,\n",
       "          -2.2357e-01,  6.1792e-01],\n",
       "         [-6.9557e-01, -7.4945e-01,  1.5094e+00,  ...,  1.1350e+00,\n",
       "           3.0758e-01,  4.3150e-02]],\n",
       "\n",
       "        [[-1.0156e-01, -4.9086e-01,  7.1459e-01,  ...,  2.1192e+00,\n",
       "           1.0669e+00, -7.8206e-01],\n",
       "         [ 1.3204e-01,  5.2238e-01,  1.6653e+00,  ...,  9.6016e-01,\n",
       "           1.2181e+00,  1.7147e+00],\n",
       "         [-2.7796e-01,  4.7268e-01, -1.4307e+00,  ...,  1.5815e+00,\n",
       "          -7.5682e-01,  1.0681e+00],\n",
       "         ...,\n",
       "         [ 1.3244e-01, -1.1275e+00,  2.6091e-01,  ...,  1.0856e+00,\n",
       "          -2.0381e-01, -3.5454e-01],\n",
       "         [-1.2786e+00, -6.9410e-01,  1.2013e+00,  ...,  6.2067e-01,\n",
       "          -1.4936e+00, -4.7792e-01],\n",
       "         [ 1.2075e+00,  2.2823e-01,  3.4317e-01,  ..., -5.8367e-01,\n",
       "           7.5203e-01,  5.7914e-02]]])"
      ]
     },
     "execution_count": 41,
     "metadata": {},
     "output_type": "execute_result"
    }
   ],
   "source": []
  },
  {
   "cell_type": "code",
   "execution_count": null,
   "metadata": {},
   "outputs": [],
   "source": []
  }
 ],
 "metadata": {
  "kernelspec": {
   "display_name": "Python 3",
   "language": "python",
   "name": "python3"
  },
  "language_info": {
   "codemirror_mode": {
    "name": "ipython",
    "version": 3
   },
   "file_extension": ".py",
   "mimetype": "text/x-python",
   "name": "python",
   "nbconvert_exporter": "python",
   "pygments_lexer": "ipython3",
   "version": "3.6.8"
  }
 },
 "nbformat": 4,
 "nbformat_minor": 2
}
